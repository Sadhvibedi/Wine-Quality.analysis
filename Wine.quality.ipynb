{
  "nbformat": 4,
  "nbformat_minor": 0,
  "metadata": {
    "colab": {
      "provenance": []
    },
    "kernelspec": {
      "name": "python3",
      "display_name": "Python 3"
    },
    "language_info": {
      "name": "python"
    }
  },
  "cells": [
    {
      "cell_type": "code",
      "execution_count": null,
      "metadata": {
        "colab": {
          "base_uri": "https://localhost:8080/"
        },
        "id": "C0slbdJZ_-Ws",
        "outputId": "fb3fc60e-f656-442a-b37c-bb7cf2f0eba1"
      },
      "outputs": [
        {
          "output_type": "stream",
          "name": "stdout",
          "text": [
            "Mounted at /content/drive\n"
          ]
        }
      ],
      "source": [
        "from google.colab import drive\n",
        "drive.mount('/content/drive')\n",
        "import os\n",
        "os.chdir('/content/drive/My Drive')"
      ]
    },
    {
      "cell_type": "code",
      "source": [
        "import pandas as pd\n",
        "df=pd.read_csv('winequality-red.csv')\n",
        "print(df)"
      ],
      "metadata": {
        "colab": {
          "base_uri": "https://localhost:8080/"
        },
        "id": "dY9wRDwRAOFm",
        "outputId": "a3b34af2-cbab-404b-b316-baca19921cc8"
      },
      "execution_count": null,
      "outputs": [
        {
          "output_type": "stream",
          "name": "stdout",
          "text": [
            "      fixed acidity  volatile acidity  citric acid  residual sugar  chlorides  \\\n",
            "0               7.4             0.700         0.00             1.9      0.076   \n",
            "1               7.8             0.880         0.00             2.6      0.098   \n",
            "2               7.8             0.760         0.04             2.3      0.092   \n",
            "3              11.2             0.280         0.56             1.9      0.075   \n",
            "4               7.4             0.700         0.00             1.9      0.076   \n",
            "...             ...               ...          ...             ...        ...   \n",
            "1594            6.2             0.600         0.08             2.0      0.090   \n",
            "1595            5.9             0.550         0.10             2.2      0.062   \n",
            "1596            6.3             0.510         0.13             2.3      0.076   \n",
            "1597            5.9             0.645         0.12             2.0      0.075   \n",
            "1598            6.0             0.310         0.47             3.6      0.067   \n",
            "\n",
            "      free sulfur dioxide  total sulfur dioxide  density    pH  sulphates  \\\n",
            "0                    11.0                  34.0  0.99780  3.51       0.56   \n",
            "1                    25.0                  67.0  0.99680  3.20       0.68   \n",
            "2                    15.0                  54.0  0.99700  3.26       0.65   \n",
            "3                    17.0                  60.0  0.99800  3.16       0.58   \n",
            "4                    11.0                  34.0  0.99780  3.51       0.56   \n",
            "...                   ...                   ...      ...   ...        ...   \n",
            "1594                 32.0                  44.0  0.99490  3.45       0.58   \n",
            "1595                 39.0                  51.0  0.99512  3.52       0.76   \n",
            "1596                 29.0                  40.0  0.99574  3.42       0.75   \n",
            "1597                 32.0                  44.0  0.99547  3.57       0.71   \n",
            "1598                 18.0                  42.0  0.99549  3.39       0.66   \n",
            "\n",
            "      alcohol  quality  \n",
            "0         9.4        5  \n",
            "1         9.8        5  \n",
            "2         9.8        5  \n",
            "3         9.8        6  \n",
            "4         9.4        5  \n",
            "...       ...      ...  \n",
            "1594     10.5        5  \n",
            "1595     11.2        6  \n",
            "1596     11.0        6  \n",
            "1597     10.2        5  \n",
            "1598     11.0        6  \n",
            "\n",
            "[1599 rows x 12 columns]\n"
          ]
        }
      ]
    },
    {
      "cell_type": "code",
      "source": [
        "X = df.drop('quality', axis=1)\n",
        "y = df['quality']"
      ],
      "metadata": {
        "id": "frVJyVDGAXD9"
      },
      "execution_count": null,
      "outputs": []
    },
    {
      "cell_type": "code",
      "source": [
        "from sklearn.model_selection import train_test_split\n",
        "y=df['quality']\n",
        "x=df.drop(['quality'],axis=1)\n",
        "x_train, x_test, y_train, y_test=train_test_split(x,y,test_size=0.2)\n"
      ],
      "metadata": {
        "id": "KBrwRqzIA_wL"
      },
      "execution_count": null,
      "outputs": []
    },
    {
      "cell_type": "code",
      "source": [
        "X_train, X_test, y_train, y_test = train_test_split(X, y, test_size=0.2, random_state=42)"
      ],
      "metadata": {
        "id": "bGHHyHErAn1c"
      },
      "execution_count": null,
      "outputs": []
    },
    {
      "cell_type": "code",
      "source": [
        "from sklearn.tree import DecisionTreeClassifier\n",
        "from sklearn.metrics import classification_report,confusion_matrix\n",
        "model=DecisionTreeClassifier()\n",
        "model.fit(x_train,y_train)\n",
        "y_predict=model.predict(x_test)\n",
        "print(\"Decision Tree : \\n\"+ classification_report(y_test,y_predict))\n",
        "print(\"confusion matrix : \\n\", confusion_matrix(y_test,y_predict))"
      ],
      "metadata": {
        "colab": {
          "base_uri": "https://localhost:8080/"
        },
        "id": "D1ujpZndBjH0",
        "outputId": "8d8a32f8-0260-4a52-beb4-8cda3fdd991d"
      },
      "execution_count": null,
      "outputs": [
        {
          "output_type": "stream",
          "name": "stdout",
          "text": [
            "Decision Tree : \n",
            "              precision    recall  f1-score   support\n",
            "\n",
            "           3       0.00      0.00      0.00         1\n",
            "           4       0.00      0.00      0.00        10\n",
            "           5       0.46      0.50      0.48       130\n",
            "           6       0.44      0.43      0.44       132\n",
            "           7       0.12      0.10      0.11        42\n",
            "           8       0.00      0.00      0.00         5\n",
            "\n",
            "    accuracy                           0.39       320\n",
            "   macro avg       0.17      0.17      0.17       320\n",
            "weighted avg       0.39      0.39      0.39       320\n",
            "\n",
            "confusion matrix : \n",
            " [[ 0  0  0  1  0  0]\n",
            " [ 0  0  4  6  0  0]\n",
            " [ 1  2 65 44 17  1]\n",
            " [ 3  6 55 57 11  0]\n",
            " [ 0  4 15 19  4  0]\n",
            " [ 0  0  1  2  2  0]]\n"
          ]
        }
      ]
    },
    {
      "cell_type": "code",
      "source": [
        "from sklearn.model_selection import train_test_split\n",
        "x_train, x_test, y_train, y_train = train_test_split(x,y, test_size=0.8, random_state=1)\n",
        "\n",
        "from sklearn import tree\n",
        "from sklearn.metrics import accuracy_score"
      ],
      "metadata": {
        "id": "-4dh_kYIB1fK"
      },
      "execution_count": null,
      "outputs": []
    },
    {
      "cell_type": "code",
      "source": [
        "import pandas as pd\n",
        "from sklearn.model_selection import train_test_split\n",
        "from sklearn.preprocessing import StandardScaler\n",
        "\n",
        "# Load the dataset\n",
        "data = pd.read_csv(\"winequality-red.csv\")\n",
        "\n",
        "# Check the number of unique labels and samples\n",
        "num_labels = data['quality'].nunique()\n",
        "num_samples = len(data)\n",
        "\n",
        "# If the number of labels is greater than the number of samples, reduce the number of unique labels\n",
        "if num_labels > num_samples:\n",
        "    # Remove duplicate labels\n",
        "    data = data.drop_duplicates(subset='quality')\n",
        "\n",
        "# Split features and target variable\n",
        "X = data.drop('quality', axis=1)\n",
        "y = data['quality']\n",
        "\n",
        "# Split the data into train and test sets\n",
        "X_train, X_test, y_train, y_test = train_test_split(X, y, test_size=0.2, random_state=42)\n",
        "\n",
        "# Standardize the features\n",
        "scaler = StandardScaler()\n",
        "X_train = scaler.fit_transform(X_train)\n",
        "X_test = scaler.transform(X_test)"
      ],
      "metadata": {
        "id": "0820G7u7CIY5"
      },
      "execution_count": null,
      "outputs": []
    },
    {
      "cell_type": "code",
      "source": [
        "dt_model = DecisionTreeClassifier(random_state=42)\n",
        "dt_model.fit(X_train, y_train)\n",
        "dt_pred = dt_model.predict(X_test)\n",
        "dt_accuracy = accuracy_score(y_test, dt_pred)\n",
        "print(\"Decision Tree Accuracy:\", dt_accuracy)"
      ],
      "metadata": {
        "colab": {
          "base_uri": "https://localhost:8080/"
        },
        "id": "Xy7D4ZuRBYRx",
        "outputId": "2490c469-7f47-46a9-b687-2056b4141062"
      },
      "execution_count": null,
      "outputs": [
        {
          "output_type": "stream",
          "name": "stdout",
          "text": [
            "Decision Tree Accuracy: 0.5625\n"
          ]
        }
      ]
    },
    {
      "cell_type": "code",
      "source": [
        "from sklearn import ensemble\n",
        "from sklearn.tree import DecisionTreeClassifier"
      ],
      "metadata": {
        "id": "ETIh3_zFC3u7"
      },
      "execution_count": null,
      "outputs": []
    },
    {
      "cell_type": "code",
      "source": [
        "numBaseClassifiers = 500\n",
        "maxdepths = 10\n",
        "trainAcc = []\n",
        "testAcc = []"
      ],
      "metadata": {
        "id": "1Oa_ynkoC-28"
      },
      "execution_count": null,
      "outputs": []
    },
    {
      "cell_type": "code",
      "source": [
        "clf = ensemble.RandomForestClassifier(n_estimators=numBaseClassifiers)"
      ],
      "metadata": {
        "id": "nSoX2d4VDCtS"
      },
      "execution_count": null,
      "outputs": []
    },
    {
      "cell_type": "code",
      "source": [
        "from sklearn.ensemble import RandomForestClassifier\n",
        "from sklearn.metrics import accuracy_score\n",
        "rf_model = RandomForestClassifier(n_estimators=100, random_state=42)\n",
        "rf_model.fit(X_train, y_train)\n",
        "rf_pred = rf_model.predict(X_test)\n",
        "rf_accuracy = accuracy_score(y_test, rf_pred)\n",
        "print(\"Random Forest Accuracy:\", rf_accuracy)\n"
      ],
      "metadata": {
        "colab": {
          "base_uri": "https://localhost:8080/"
        },
        "id": "iIJYqkpmCVxZ",
        "outputId": "734517c9-d391-4594-da44-a834cbf106b2"
      },
      "execution_count": null,
      "outputs": [
        {
          "output_type": "stream",
          "name": "stdout",
          "text": [
            "Random Forest Accuracy: 0.659375\n"
          ]
        }
      ]
    },
    {
      "cell_type": "code",
      "source": [
        "from sklearn.ensemble import BaggingClassifier, AdaBoostClassifier\n",
        "bagging_model = BaggingClassifier(base_estimator=DecisionTreeClassifier(), n_estimators=100, random_state=42)\n",
        "bagging_model.fit(X_train, y_train)\n",
        "bagging_pred = bagging_model.predict(X_test)\n",
        "bagging_accuracy = accuracy_score(y_test, bagging_pred)\n",
        "print(\"Bagging Accuracy:\", bagging_accuracy)\n"
      ],
      "metadata": {
        "colab": {
          "base_uri": "https://localhost:8080/"
        },
        "id": "VkVZ2jwZEOpW",
        "outputId": "8550aee4-2e87-4592-fa19-ff4b2a47d2e0"
      },
      "execution_count": null,
      "outputs": [
        {
          "output_type": "stream",
          "name": "stderr",
          "text": [
            "/usr/local/lib/python3.10/dist-packages/sklearn/ensemble/_base.py:166: FutureWarning: `base_estimator` was renamed to `estimator` in version 1.2 and will be removed in 1.4.\n",
            "  warnings.warn(\n"
          ]
        },
        {
          "output_type": "stream",
          "name": "stdout",
          "text": [
            "Bagging Accuracy: 0.659375\n"
          ]
        }
      ]
    },
    {
      "cell_type": "code",
      "source": [
        "boosting_model = AdaBoostClassifier(base_estimator=DecisionTreeClassifier(max_depth=1), n_estimators=100, random_state=42)\n",
        "boosting_model.fit(X_train, y_train)\n",
        "boosting_pred = boosting_model.predict(X_test)\n",
        "boosting_accuracy = accuracy_score(y_test, boosting_pred)\n",
        "print(\"Boosting Accuracy:\", boosting_accuracy)"
      ],
      "metadata": {
        "colab": {
          "base_uri": "https://localhost:8080/"
        },
        "id": "1lL9tPeXEpE-",
        "outputId": "34dfc9f0-0338-4b00-ee31-c49c38a8eb71"
      },
      "execution_count": null,
      "outputs": [
        {
          "output_type": "stream",
          "name": "stderr",
          "text": [
            "/usr/local/lib/python3.10/dist-packages/sklearn/ensemble/_base.py:166: FutureWarning: `base_estimator` was renamed to `estimator` in version 1.2 and will be removed in 1.4.\n",
            "  warnings.warn(\n"
          ]
        },
        {
          "output_type": "stream",
          "name": "stdout",
          "text": [
            "Boosting Accuracy: 0.528125\n"
          ]
        }
      ]
    },
    {
      "cell_type": "code",
      "source": [
        "import matplotlib.pyplot as plt\n",
        "\n",
        "methods = ['Random Forest', 'Bagging', 'Ada Boost']\n",
        "fig, (ax1, ax2) = plt.subplots(1, 2, figsize=(12, 6))\n",
        "\n",
        "# Check if trainAcc is not empty and has the correct length\n",
        "if not trainAcc or len(trainAcc) != len(methods):\n",
        "    print(\"Error: trainAcc is empty or has a different length than methods.\")\n",
        "else:\n",
        "    # Plot training accuracies\n",
        "    ax1.bar([1.5, 2.5, 3.5], trainAcc)\n",
        "    ax1.set_xticks([1.5, 2.5, 3.5])\n",
        "    ax1.set_xticklabels(methods)\n",
        "\n",
        "plt.show()"
      ],
      "metadata": {
        "colab": {
          "base_uri": "https://localhost:8080/",
          "height": 545
        },
        "id": "f4YmsBLrKCoE",
        "outputId": "ea71e8da-2485-439e-83c2-d4ccc88c6af4"
      },
      "execution_count": null,
      "outputs": [
        {
          "output_type": "stream",
          "name": "stdout",
          "text": [
            "Error: trainAcc is empty or has a different length than methods.\n"
          ]
        },
        {
          "output_type": "display_data",
          "data": {
            "text/plain": [
              "<Figure size 1200x600 with 2 Axes>"
            ],
            "image/png": "[encoded data removed]"
          },
          "metadata": {}
        }
      ]
    },
    {
      "cell_type": "code",
      "source": [
        "import matplotlib.pyplot as plt\n",
        "\n",
        "# Mock data for demonstration (replace this with your actual data)\n",
        "trainAcc = [0.85, 0.92, 0.88]  # Example training accuracies for each method\n",
        "methods = ['Random Forest', 'Bagging', 'Ada Boost']\n",
        "\n",
        "# Check if trainAcc is not empty and has the correct length\n",
        "if not trainAcc or len(trainAcc) != len(methods):\n",
        "    print(\"Error: trainAcc is empty or has a different length than methods.\")\n",
        "else:\n",
        "    # Proceed with plotting\n",
        "    fig, (ax1, ax2) = plt.subplots(1, 2, figsize=(12, 6))\n",
        "    ax1.bar([1.5, 2.5, 3.5], trainAcc)\n",
        "    ax1.set_xticks([1.5, 2.5, 3.5])\n",
        "    ax1.set_xticklabels(methods)\n",
        "\n",
        "plt.show()"
      ],
      "metadata": {
        "colab": {
          "base_uri": "https://localhost:8080/",
          "height": 528
        },
        "id": "KdHtySGwKklw",
        "outputId": "ac5c8670-815b-46cf-e004-6f79cf461fd8"
      },
      "execution_count": null,
      "outputs": [
        {
          "output_type": "display_data",
          "data": {
            "text/plain": [
              "<Figure size 1200x600 with 2 Axes>"
            ],
            "image/png": "[encoded data removed]"
          },
          "metadata": {}
        }
      ]
    },
    {
      "cell_type": "code",
      "source": [
        "import matplotlib.pyplot as plt\n",
        "\n",
        "# Mock data for demonstration (replace this with your actual data)\n",
        "testAcc = [0.75, 0.82, 0.78]  # Example testing accuracies for each method\n",
        "methods = ['Random Forest', 'Bagging', 'Ada Boost']\n",
        "\n",
        "# Check if testAcc is not empty and has the correct length\n",
        "if not testAcc or len(testAcc) != len(methods):\n",
        "    print(\"Error: testAcc is empty or has a different length than methods.\")\n",
        "else:\n",
        "    # Proceed with plotting\n",
        "    fig, (ax1, ax2) = plt.subplots(1, 2, figsize=(12, 6))\n",
        "    ax2.bar([1.5, 2.5, 3.5], testAcc)\n",
        "    ax2.set_xticks([1.5, 2.5, 3.5])\n",
        "    ax2.set_xticklabels(methods)\n",
        "\n",
        "plt.show()"
      ],
      "metadata": {
        "colab": {
          "base_uri": "https://localhost:8080/",
          "height": 528
        },
        "id": "jwvBexRuK2K6",
        "outputId": "6b8e0b2d-b7df-4212-f863-37a346062122"
      },
      "execution_count": null,
      "outputs": [
        {
          "output_type": "display_data",
          "data": {
            "text/plain": [
              "<Figure size 1200x600 with 2 Axes>"
            ],
            "image/png": "[encoded data removed]"
          },
          "metadata": {}
        }
      ]
    },
    {
      "cell_type": "code",
      "source": [
        "import matplotlib.pyplot as plt\n",
        "methods = ['Random Forest', 'Bagging', 'Ada Boost']\n",
        "fig, (ax1, ax2) = plt.subplots(1, 2, figsize=(12,6))\n",
        "ax1.bar([1,2,3], trainAcc)\n",
        "ax1.set_xticks([1.5,2.5,3.5])\n",
        "ax2.set_xticklabels(methods)\n",
        "ax2.bar([1.5,2.5,3.5],testAcc)\n",
        "ax2.set_xticks([1.5,2.5,3.5])\n",
        "ax2.set_xticklabels(methods)"
      ],
      "metadata": {
        "colab": {
          "base_uri": "https://localhost:8080/",
          "height": 609
        },
        "id": "AQt44lYnKKYb",
        "outputId": "5b02a90d-ed49-42e7-b28b-17777d12952c"
      },
      "execution_count": null,
      "outputs": [
        {
          "output_type": "stream",
          "name": "stderr",
          "text": [
            "<ipython-input-47-548d11b4b721>:6: UserWarning: FixedFormatter should only be used together with FixedLocator\n",
            "  ax2.set_xticklabels(methods)\n"
          ]
        },
        {
          "output_type": "execute_result",
          "data": {
            "text/plain": [
              "[Text(1.5, 0, 'Random Forest'),\n",
              " Text(2.5, 0, 'Bagging'),\n",
              " Text(3.5, 0, 'Ada Boost')]"
            ]
          },
          "metadata": {},
          "execution_count": 47
        },
        {
          "output_type": "display_data",
          "data": {
            "text/plain": [
              "<Figure size 1200x600 with 2 Axes>"
            ],
            "image/png": "[encoded data removed]"
          },
          "metadata": {}
        }
      ]
    }
  ]
}